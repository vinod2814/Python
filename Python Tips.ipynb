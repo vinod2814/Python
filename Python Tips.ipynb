{
 "cells": [
  {
   "cell_type": "markdown",
   "source": [
    "#### 1. “Else” condition inside a “for” loop"
   ],
   "metadata": {}
  },
  {
   "cell_type": "code",
   "execution_count": 1,
   "source": [
    "numbers = [2,4,6,8,1,5,6]\r\n",
    "\r\n",
    "for number in numbers:\r\n",
    "    if number % 2 ==1:\r\n",
    "        print(number)\r\n",
    "        break\r\n",
    "else:\r\n",
    "    print(\"No odd numbers\")"
   ],
   "outputs": [
    {
     "output_type": "stream",
     "name": "stdout",
     "text": [
      "1\n"
     ]
    }
   ],
   "metadata": {}
  },
  {
   "cell_type": "markdown",
   "source": [
    "#### 2. Get elements from a list using named variables"
   ],
   "metadata": {}
  },
  {
   "cell_type": "code",
   "execution_count": 16,
   "source": [
    "my_list = [1, 2, 3, 4, 5]\r\n",
    "one, two, three, four, five = my_list\r\n",
    "print(one,two)"
   ],
   "outputs": [
    {
     "output_type": "stream",
     "name": "stdout",
     "text": [
      "1 2\n"
     ]
    }
   ],
   "metadata": {}
  },
  {
   "cell_type": "markdown",
   "source": [
    "#### 3. Get n largest or n smallest elements in a list using the module heapq"
   ],
   "metadata": {}
  },
  {
   "cell_type": "code",
   "execution_count": 17,
   "source": [
    "import heapq \r\n",
    "\r\n",
    "scores = [53,56,89,365,52,42,68,98]\r\n",
    "\r\n",
    "print(heapq.nlargest(3,scores))\r\n",
    "print(heapq.nsmallest(4,scores))"
   ],
   "outputs": [
    {
     "output_type": "stream",
     "name": "stdout",
     "text": [
      "[365, 98, 89]\n",
      "[42, 52, 53, 56]\n"
     ]
    }
   ],
   "metadata": {}
  },
  {
   "cell_type": "markdown",
   "source": [
    "### 4. Pass values from a list as method arguments\n",
    " \n",
    " we can extract all element of a list using \"*\" "
   ],
   "metadata": {}
  },
  {
   "cell_type": "code",
   "execution_count": 18,
   "source": [
    "list = [1,2,3,5,6,5]\r\n",
    "\r\n",
    "print(list)\r\n",
    "print(*list)\r\n",
    "\r\n",
    "def sum_of_numbers(*list):\r\n",
    "    total=0\r\n",
    "    for i in list:\r\n",
    "        total+=i\r\n",
    "        \r\n",
    "    return total\r\n",
    "\r\n",
    "print(sum_of_numbers(*list))\r\n"
   ],
   "outputs": [
    {
     "output_type": "stream",
     "name": "stdout",
     "text": [
      "[1, 2, 3, 5, 6, 5]\n",
      "1 2 3 5 6 5\n",
      "22\n"
     ]
    }
   ],
   "metadata": {}
  },
  {
   "cell_type": "markdown",
   "source": [
    "#### 5. Get all the elements in the middle of the list"
   ],
   "metadata": {}
  },
  {
   "cell_type": "code",
   "execution_count": 19,
   "source": [
    "_, *elements_in_middle, _ = [1,2,3,4,5,6,7,8,9]\r\n",
    "\r\n",
    "print(elements_in_middle)"
   ],
   "outputs": [
    {
     "output_type": "stream",
     "name": "stdout",
     "text": [
      "[2, 3, 4, 5, 6, 7, 8]\n"
     ]
    }
   ],
   "metadata": {}
  },
  {
   "cell_type": "markdown",
   "source": [
    "#### 6. Assign multiple variable in just one line"
   ],
   "metadata": {}
  },
  {
   "cell_type": "code",
   "execution_count": 20,
   "source": [
    "a,b,c,d=1,2,3,4\r\n",
    "print(a,b,c,d)"
   ],
   "outputs": [
    {
     "output_type": "stream",
     "name": "stdout",
     "text": [
      "1 2 3 4\n"
     ]
    }
   ],
   "metadata": {}
  },
  {
   "cell_type": "markdown",
   "source": [
    "#### 7. List comprehensions\n",
    "    You can use comprehension to loop through a list with one line of code\n",
    "    \n",
    "    Comprehensions are not just limited to working with lists. You can also use them with dictionaries, sets, and generators as well."
   ],
   "metadata": {}
  },
  {
   "cell_type": "code",
   "execution_count": 21,
   "source": [
    "numbers  = [1,2,3,4,5]\r\n",
    "squared_numbers = [num * num for num in numbers]\r\n",
    "\r\n",
    "print(squared_numbers)\r\n",
    "\r\n",
    "dictionary = {'a':1,'b':2,'c':3,'d':4}\r\n",
    "squared_dictionary = {key: num * num for (key,num) in dictionary.items()}\r\n",
    "\r\n",
    "print(squared_dictionary)\r\n"
   ],
   "outputs": [
    {
     "output_type": "stream",
     "name": "stdout",
     "text": [
      "[1, 4, 9, 16, 25]\n",
      "{'a': 1, 'b': 4, 'c': 9, 'd': 16}\n"
     ]
    }
   ],
   "metadata": {}
  },
  {
   "cell_type": "markdown",
   "source": [
    "### 8. Enumerate related items of same concept via Enum\n",
    "\n",
    "An Enum is a set of symbolic names bound to unique values. They are similar to global variables, but they offer a more useful repr(), grouping, type-safety, and a few other features."
   ],
   "metadata": {}
  },
  {
   "cell_type": "code",
   "execution_count": 22,
   "source": [
    "from enum import Enum\r\n",
    "\r\n",
    "class Status(Enum):\r\n",
    "    NO_STATUS = -1\r\n",
    "    NOT_STARTED = 0\r\n",
    "    IN_PROGRESS = 1\r\n",
    "    COMPLETED = 2\r\n",
    "    \r\n",
    "print(Status.IN_PROGRESS.name)\r\n",
    "print(Status.COMPLETED.value)\r\n",
    "print(Status.NO_STATUS.name)"
   ],
   "outputs": [
    {
     "output_type": "stream",
     "name": "stdout",
     "text": [
      "IN_PROGRESS\n",
      "2\n",
      "NO_STATUS\n"
     ]
    }
   ],
   "metadata": {}
  },
  {
   "cell_type": "markdown",
   "source": [
    "### 9. Repeat strings without lopping"
   ],
   "metadata": {}
  },
  {
   "cell_type": "code",
   "execution_count": 23,
   "source": [
    "name = \"vinod\"\r\n",
    "print(\" \",name * 5)"
   ],
   "outputs": [
    {
     "output_type": "stream",
     "name": "stdout",
     "text": [
      "  vinodvinodvinodvinodvinod\n"
     ]
    }
   ],
   "metadata": {}
  },
  {
   "cell_type": "markdown",
   "source": [
    "#### 10. Compare 3 numbers just like in Math"
   ],
   "metadata": {}
  },
  {
   "cell_type": "code",
   "execution_count": 24,
   "source": [
    "x=3 \r\n",
    "print(1 < x < 10)"
   ],
   "outputs": [
    {
     "output_type": "stream",
     "name": "stdout",
     "text": [
      "True\n"
     ]
    }
   ],
   "metadata": {}
  },
  {
   "cell_type": "markdown",
   "source": [
    "#### 11. Merge dictionaries in a single readable line"
   ],
   "metadata": {}
  },
  {
   "cell_type": "code",
   "execution_count": 49,
   "source": [
    "first_dictionary = {'name':'Vinod','location':'Delhi'}\r\n",
    "second_dictionary = {'name':'Rahul','surname':'Awasare','location':'Indore'}\r\n",
    "\r\n",
    "#result = first_dictionary | second_dictionary\r\n",
    "\r\n",
    "print(first_dictionary.update(second_dictionary))\r\n",
    "print(first_dictionary)"
   ],
   "outputs": [
    {
     "output_type": "stream",
     "name": "stdout",
     "text": [
      "None\n",
      "{'name': 'Rahul', 'location': 'Indore', 'surname': 'Awasare'}\n"
     ]
    }
   ],
   "metadata": {}
  },
  {
   "cell_type": "markdown",
   "source": [
    "#### 12. Find the index of an element in a tuple"
   ],
   "metadata": {}
  },
  {
   "cell_type": "code",
   "execution_count": 55,
   "source": [
    "books = ('Atomic habit','ego is a enemy','outliers','mastery')\r\n",
    "print(books.index('outliers'))"
   ],
   "outputs": [
    {
     "output_type": "stream",
     "name": "stdout",
     "text": [
      "2\n"
     ]
    }
   ],
   "metadata": {}
  },
  {
   "cell_type": "markdown",
   "source": [
    "#### 13. Convert a string into a list of strings"
   ],
   "metadata": {}
  },
  {
   "cell_type": "code",
   "execution_count": 61,
   "source": [
    "import ast\r\n",
    "\r\n",
    "def string_to_list(str1):\r\n",
    "    return ast.literal_eval(str1)\r\n",
    "\r\n",
    "str1 = \"[[1,2,3],[5,4,7]]\"\r\n",
    "my_list = string_to_list(str1)\r\n",
    "print(my_list)\r\n"
   ],
   "outputs": [
    {
     "output_type": "stream",
     "name": "stdout",
     "text": [
      "[[1, 2, 3], [5, 4, 7]]\n"
     ]
    }
   ],
   "metadata": {}
  },
  {
   "cell_type": "markdown",
   "source": [
    "#### 14. Avoid trivial mistakes by using named parameters"
   ],
   "metadata": {}
  },
  {
   "cell_type": "code",
   "execution_count": 70,
   "source": [
    "def subtract(a,b):\r\n",
    "    return a-b\r\n",
    "    \r\n",
    "print((subtract(a=1,b=3)),(subtract(b=3,a=1)),sep='@')\r\n",
    "print(1_000_000)\r\n"
   ],
   "outputs": [
    {
     "output_type": "stream",
     "name": "stdout",
     "text": [
      "-2@-2\n",
      "1000000\n"
     ]
    }
   ],
   "metadata": {}
  },
  {
   "cell_type": "markdown",
   "source": [
    "#### 15. Slice a string using a step function"
   ],
   "metadata": {}
  },
  {
   "cell_type": "code",
   "execution_count": 24,
   "source": [
    "my_string = \"This ip just a sentence\"\r\n",
    "print(my_string[0:5])\r\n",
    "print(my_string[0:10])\r\n",
    "# Three step forward\r\n",
    "print(my_string[0:10:3])\r\n",
    "# two step forward\r\n",
    "print(my_string[10:0:-2])\r\n"
   ],
   "outputs": [
    {
     "output_type": "stream",
     "name": "stdout",
     "text": [
      "This \n",
      "This ip ju\n",
      "Tspu\n",
      "sjp i\n"
     ]
    }
   ],
   "metadata": {}
  },
  {
   "cell_type": "markdown",
   "source": [
    "#### 16. Difference between == and \"is\""
   ],
   "metadata": {}
  },
  {
   "cell_type": "code",
   "execution_count": 32,
   "source": [
    "\r\n",
    "f_list = [1,2,4]\r\n",
    "s_list = [1,2,4]\r\n",
    "\r\n",
    "print(f_list == s_list)\r\n",
    "\r\n",
    "\r\n",
    "print(f_list is s_list) # False bcoz different object in memory\r\n",
    "\r\n",
    "t_list = f_list\r\n",
    "\r\n",
    "print(t_list is f_list) # True bcoz both point to same object in memory\r\n",
    "\r\n",
    "# unique id of variable\r\n",
    "print(id(1))\r\n",
    "print(id(\"vinod\"))\r\n"
   ],
   "outputs": [
    {
     "output_type": "stream",
     "name": "stdout",
     "text": [
      "True\n",
      "False\n",
      "True\n",
      "140723920544160\n",
      "2177517929840\n"
     ]
    }
   ],
   "metadata": {}
  },
  {
   "cell_type": "markdown",
   "source": [
    "#### 17. Integers, floats, strings, booleans, sets, and tuples are immutable"
   ],
   "metadata": {}
  },
  {
   "cell_type": "code",
   "execution_count": 39,
   "source": [
    "number = 1\r\n",
    "print(id(number)) # 140723920544160\r\n",
    "print(id(1)) # 140723920544160\r\n",
    "\r\n",
    "number = 3\r\n",
    "print(id(number)) # 140723920544224\r\n",
    "print(id(1)) # 140723920544160\r\n",
    "\r\n",
    "name =\"vinod\"\r\n",
    "print(id(name)) # 2177511814832\r\n",
    "\r\n",
    "name =\"rahul\"\r\n",
    "print(id(name)) # 2177508312304\r\n",
    "\r\n"
   ],
   "outputs": [
    {
     "output_type": "stream",
     "name": "stdout",
     "text": [
      "140723920544160\n",
      "140723920544160\n",
      "140723920544224\n",
      "140723920544160\n",
      "2177507339632\n",
      "2177508312304\n"
     ]
    }
   ],
   "metadata": {}
  },
  {
   "cell_type": "markdown",
   "source": [
    "#### 18. Lists, sets, and dictionaries are mutable"
   ],
   "metadata": {}
  },
  {
   "cell_type": "code",
   "execution_count": null,
   "source": [
    "cities = [\"delhi\",\"bhopal\",\"indore\"]\r\n",
    "print(id(cities)) # 2177523468936\r\n",
    "\r\n",
    "cities.append(\"mumbai\")\r\n",
    "print(id(cities)) # 2177523468936"
   ],
   "outputs": [
    {
     "output_type": "stream",
     "name": "stdout",
     "text": [
      "2177523468936\n",
      "2177523468936\n"
     ]
    }
   ],
   "metadata": {}
  },
  {
   "cell_type": "markdown",
   "source": [
    "#### 18. You can turn a set into an immutable set"
   ],
   "metadata": {}
  },
  {
   "cell_type": "code",
   "execution_count": 51,
   "source": [
    "my_set = frozenset(['a','b','c'])\r\n",
    "print(id(my_set))\r\n"
   ],
   "outputs": [
    {
     "output_type": "stream",
     "name": "stdout",
     "text": [
      "2177526601992\n"
     ]
    }
   ],
   "metadata": {}
  },
  {
   "cell_type": "code",
   "execution_count": null,
   "source": [],
   "outputs": [],
   "metadata": {}
  }
 ],
 "metadata": {
  "kernelspec": {
   "name": "python3",
   "display_name": "Python 3.7.10 64-bit ('demo2': conda)"
  },
  "language_info": {
   "codemirror_mode": {
    "name": "ipython",
    "version": 3
   },
   "file_extension": ".py",
   "mimetype": "text/x-python",
   "name": "python",
   "nbconvert_exporter": "python",
   "pygments_lexer": "ipython3",
   "version": "3.7.10"
  },
  "interpreter": {
   "hash": "2147ee33f673e5bb9c6dddc3b69b7ed017b899ada107a882194aecb2cb9b0728"
  }
 },
 "nbformat": 4,
 "nbformat_minor": 5
}