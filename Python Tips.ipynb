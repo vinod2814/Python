{
 "cells": [
  {
   "cell_type": "markdown",
   "id": "a29a45e6",
   "metadata": {},
   "source": [
    "#### 1. “Else” condition inside a “for” loop"
   ]
  },
  {
   "cell_type": "code",
   "execution_count": 4,
   "id": "d8d637e4",
   "metadata": {},
   "outputs": [
    {
     "name": "stdout",
     "output_type": "stream",
     "text": [
      "1\n"
     ]
    }
   ],
   "source": [
    "numbers = [2,4,6,8,1]\n",
    "\n",
    "for number in numbers:\n",
    "    if number % 2 ==1:\n",
    "        print(number)\n",
    "        break\n",
    "else:\n",
    "    print(\"No odd numbers\")"
   ]
  },
  {
   "cell_type": "markdown",
   "id": "90515b68",
   "metadata": {},
   "source": [
    "#### 2. Get elements from a list using named variables"
   ]
  },
  {
   "cell_type": "code",
   "execution_count": 9,
   "id": "4c0ec502",
   "metadata": {},
   "outputs": [
    {
     "name": "stdout",
     "output_type": "stream",
     "text": [
      "1 2\n"
     ]
    }
   ],
   "source": [
    "my_list = [1, 2, 3, 4, 5]\n",
    "one, two, three, four, five = my_list\n",
    "print(one,two)"
   ]
  },
  {
   "cell_type": "markdown",
   "id": "89f70d38",
   "metadata": {},
   "source": [
    "#### 3. Get n largest or n smallest elements in a list using the module heapq"
   ]
  },
  {
   "cell_type": "code",
   "execution_count": 13,
   "id": "e9d74d00",
   "metadata": {},
   "outputs": [
    {
     "name": "stdout",
     "output_type": "stream",
     "text": [
      "[365, 98, 89]\n",
      "[42, 52, 53, 56]\n"
     ]
    }
   ],
   "source": [
    "import heapq \n",
    "\n",
    "scores = [53,56,89,365,52,42,68,98]\n",
    "\n",
    "print(heapq.nlargest(3,scores))\n",
    "print(heapq.nsmallest(4,scores))"
   ]
  },
  {
   "cell_type": "markdown",
   "id": "b9b7c2df",
   "metadata": {},
   "source": [
    "### 4. Pass values from a list as method arguments\n",
    " \n",
    " we can extract all element of a list using \"*\" "
   ]
  },
  {
   "cell_type": "code",
   "execution_count": 17,
   "id": "806295de",
   "metadata": {},
   "outputs": [
    {
     "name": "stdout",
     "output_type": "stream",
     "text": [
      "[1, 2, 3, 5, 6, 5]\n",
      "1 2 3 5 6 5\n",
      "22\n"
     ]
    }
   ],
   "source": [
    "list = [1,2,3,5,6,5]\n",
    "\n",
    "print(list)\n",
    "print(*list)\n",
    "\n",
    "def sum_of_numbers(*list):\n",
    "    total=0\n",
    "    for i in list:\n",
    "        total+=i\n",
    "        \n",
    "    return total\n",
    "\n",
    "print(sum_of_numbers(*list))\n"
   ]
  },
  {
   "cell_type": "markdown",
   "id": "5e934c83",
   "metadata": {},
   "source": [
    "#### 5. Get all the elements in the middle of the list"
   ]
  },
  {
   "cell_type": "code",
   "execution_count": 21,
   "id": "f04d245b",
   "metadata": {},
   "outputs": [
    {
     "name": "stdout",
     "output_type": "stream",
     "text": [
      "[2, 3, 4, 5, 6, 7, 8]\n"
     ]
    }
   ],
   "source": [
    "_, *elements_in_middle, _ = [1,2,3,4,5,6,7,8,9]\n",
    "\n",
    "print(elements_in_middle)"
   ]
  },
  {
   "cell_type": "markdown",
   "id": "b7efda06",
   "metadata": {},
   "source": [
    "#### 6. Assign multiple variable in just one line"
   ]
  },
  {
   "cell_type": "code",
   "execution_count": 22,
   "id": "f524f170",
   "metadata": {},
   "outputs": [
    {
     "name": "stdout",
     "output_type": "stream",
     "text": [
      "1 2 3 4\n"
     ]
    }
   ],
   "source": [
    "a,b,c,d=1,2,3,4\n",
    "print(a,b,c,d)"
   ]
  },
  {
   "cell_type": "markdown",
   "id": "b4dc692d",
   "metadata": {},
   "source": [
    "#### 7. List comprehensions\n",
    "    You can use comprehension to loop through a list with one line of code\n",
    "    \n",
    "    Comprehensions are not just limited to working with lists. You can also use them with dictionaries, sets, and generators as well."
   ]
  },
  {
   "cell_type": "code",
   "execution_count": 26,
   "id": "594b0eb6",
   "metadata": {},
   "outputs": [
    {
     "name": "stdout",
     "output_type": "stream",
     "text": [
      "[1, 4, 9, 16, 25]\n",
      "{'a': 1, 'b': 4, 'c': 9, 'd': 16}\n"
     ]
    }
   ],
   "source": [
    "numbers  = [1,2,3,4,5]\n",
    "squared_numbers = [num * num for num in numbers]\n",
    "\n",
    "print(squared_numbers)\n",
    "\n",
    "dictionary = {'a':1,'b':2,'c':3,'d':4}\n",
    "squared_dictionary = {key: num * num for (key,num) in dictionary.items()}\n",
    "\n",
    "print(squared_dictionary)\n"
   ]
  },
  {
   "cell_type": "markdown",
   "id": "3c8300d1",
   "metadata": {},
   "source": [
    "### 8. Enumerate related items of same concept via Enum\n",
    "\n",
    "An Enum is a set of symbolic names bound to unique values. They are similar to global variables, but they offer a more useful repr(), grouping, type-safety, and a few other features."
   ]
  },
  {
   "cell_type": "code",
   "execution_count": 29,
   "id": "72594515",
   "metadata": {},
   "outputs": [
    {
     "name": "stdout",
     "output_type": "stream",
     "text": [
      "IN_PROGRESS\n",
      "2\n",
      "NO_STATUS\n"
     ]
    }
   ],
   "source": [
    "from enum import Enum\n",
    "\n",
    "class Status(Enum):\n",
    "    NO_STATUS = -1\n",
    "    NOT_STARTED = 0\n",
    "    IN_PROGRESS = 1\n",
    "    COMPLETED = 2\n",
    "    \n",
    "print(Status.IN_PROGRESS.name)\n",
    "print(Status.COMPLETED.value)\n",
    "print(Status.NO_STATUS.name)"
   ]
  },
  {
   "cell_type": "markdown",
   "id": "ab3f6574",
   "metadata": {},
   "source": [
    "### 9. Repeat strings without lopping"
   ]
  },
  {
   "cell_type": "code",
   "execution_count": 30,
   "id": "dcb98c78",
   "metadata": {},
   "outputs": [
    {
     "name": "stdout",
     "output_type": "stream",
     "text": [
      "vinodvinodvinodvinodvinod\n"
     ]
    }
   ],
   "source": [
    "name = \"vinod\"\n",
    "print(name * 5)"
   ]
  },
  {
   "cell_type": "markdown",
   "id": "1a141b81",
   "metadata": {},
   "source": [
    "#### 10. Compare 3 numbers just like in Math"
   ]
  },
  {
   "cell_type": "code",
   "execution_count": 31,
   "id": "84a86f8c",
   "metadata": {},
   "outputs": [
    {
     "name": "stdout",
     "output_type": "stream",
     "text": [
      "True\n"
     ]
    }
   ],
   "source": [
    "x=3 \n",
    "print(1 < x < 10)"
   ]
  }
 ],
 "metadata": {
  "kernelspec": {
   "display_name": "Python 3",
   "language": "python",
   "name": "python3"
  },
  "language_info": {
   "codemirror_mode": {
    "name": "ipython",
    "version": 3
   },
   "file_extension": ".py",
   "mimetype": "text/x-python",
   "name": "python",
   "nbconvert_exporter": "python",
   "pygments_lexer": "ipython3",
   "version": "3.8.8"
  }
 },
 "nbformat": 4,
 "nbformat_minor": 5
}
