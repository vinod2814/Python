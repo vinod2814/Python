{
 "cells": [
  {
   "cell_type": "markdown",
   "metadata": {},
   "source": [
    "#### 1. “Else” condition inside a “for” loop"
   ]
  },
  {
   "cell_type": "code",
   "execution_count": 1,
   "metadata": {},
   "outputs": [
    {
     "name": "stdout",
     "output_type": "stream",
     "text": [
      "1\n"
     ]
    }
   ],
   "source": [
    "numbers = [2,4,6,8,1,5,6,9,4,7,1,4,7]\n",
    "\n",
    "for number in numbers:\n",
    "    if number % 2 ==1:\n",
    "        print(number)\n",
    "        break\n",
    "else:\n",
    "    print(\"No odd numbers\")"
   ]
  },
  {
   "cell_type": "markdown",
   "metadata": {},
   "source": [
    "#### 2. Get elements from a list using named variables"
   ]
  },
  {
   "cell_type": "code",
   "execution_count": 16,
   "metadata": {},
   "outputs": [
    {
     "name": "stdout",
     "output_type": "stream",
     "text": [
      "1 2\n"
     ]
    }
   ],
   "source": [
    "my_list = [1, 2, 3, 4, 5]\n",
    "one, two, three, four, five = my_list\n",
    "print(one,two)"
   ]
  },
  {
   "cell_type": "markdown",
   "metadata": {},
   "source": [
    "#### 3. Get n largest or n smallest elements in a list using the module heapq"
   ]
  },
  {
   "cell_type": "code",
   "execution_count": 17,
   "metadata": {},
   "outputs": [
    {
     "name": "stdout",
     "output_type": "stream",
     "text": [
      "[365, 98, 89]\n",
      "[42, 52, 53, 56]\n"
     ]
    }
   ],
   "source": [
    "import heapq \n",
    "\n",
    "scores = [53,56,89,365,52,42,68,98]\n",
    "\n",
    "print(heapq.nlargest(3,scores))\n",
    "print(heapq.nsmallest(4,scores))"
   ]
  },
  {
   "cell_type": "markdown",
   "metadata": {},
   "source": [
    "### 4. Pass values from a list as method arguments\n",
    " \n",
    " we can extract all element of a list using \"*\" "
   ]
  },
  {
   "cell_type": "code",
   "execution_count": 18,
   "metadata": {},
   "outputs": [
    {
     "name": "stdout",
     "output_type": "stream",
     "text": [
      "[1, 2, 3, 5, 6, 5]\n",
      "1 2 3 5 6 5\n",
      "22\n"
     ]
    }
   ],
   "source": [
    "list = [1,2,3,5,6,5]\n",
    "\n",
    "print(list)\n",
    "print(*list)\n",
    "\n",
    "def sum_of_numbers(*list):\n",
    "    total=0\n",
    "    for i in list:\n",
    "        total+=i\n",
    "        \n",
    "    return total\n",
    "\n",
    "print(sum_of_numbers(*list))\n"
   ]
  },
  {
   "cell_type": "markdown",
   "metadata": {},
   "source": [
    "#### 5. Get all the elements in the middle of the list"
   ]
  },
  {
   "cell_type": "code",
   "execution_count": 19,
   "metadata": {},
   "outputs": [
    {
     "name": "stdout",
     "output_type": "stream",
     "text": [
      "[2, 3, 4, 5, 6, 7, 8]\n"
     ]
    }
   ],
   "source": [
    "_, *elements_in_middle, _ = [1,2,3,4,5,6,7,8,9]\n",
    "\n",
    "print(elements_in_middle)"
   ]
  },
  {
   "cell_type": "markdown",
   "metadata": {},
   "source": [
    "#### 6. Assign multiple variable in just one line"
   ]
  },
  {
   "cell_type": "code",
   "execution_count": 20,
   "metadata": {},
   "outputs": [
    {
     "name": "stdout",
     "output_type": "stream",
     "text": [
      "1 2 3 4\n"
     ]
    }
   ],
   "source": [
    "a,b,c,d=1,2,3,4\n",
    "print(a,b,c,d)"
   ]
  },
  {
   "cell_type": "markdown",
   "metadata": {},
   "source": [
    "#### 7. List comprehensions\n",
    "    You can use comprehension to loop through a list with one line of code\n",
    "    \n",
    "    Comprehensions are not just limited to working with lists. You can also use them with dictionaries, sets, and generators as well."
   ]
  },
  {
   "cell_type": "code",
   "execution_count": 21,
   "metadata": {},
   "outputs": [
    {
     "name": "stdout",
     "output_type": "stream",
     "text": [
      "[1, 4, 9, 16, 25]\n",
      "{'a': 1, 'b': 4, 'c': 9, 'd': 16}\n"
     ]
    }
   ],
   "source": [
    "numbers  = [1,2,3,4,5]\n",
    "squared_numbers = [num * num for num in numbers]\n",
    "\n",
    "print(squared_numbers)\n",
    "\n",
    "dictionary = {'a':1,'b':2,'c':3,'d':4}\n",
    "squared_dictionary = {key: num * num for (key,num) in dictionary.items()}\n",
    "\n",
    "print(squared_dictionary)\n"
   ]
  },
  {
   "cell_type": "markdown",
   "metadata": {},
   "source": [
    "### 8. Enumerate related items of same concept via Enum\n",
    "\n",
    "An Enum is a set of symbolic names bound to unique values. They are similar to global variables, but they offer a more useful repr(), grouping, type-safety, and a few other features."
   ]
  },
  {
   "cell_type": "code",
   "execution_count": 22,
   "metadata": {},
   "outputs": [
    {
     "name": "stdout",
     "output_type": "stream",
     "text": [
      "IN_PROGRESS\n",
      "2\n",
      "NO_STATUS\n"
     ]
    }
   ],
   "source": [
    "from enum import Enum\n",
    "\n",
    "class Status(Enum):\n",
    "    NO_STATUS = -1\n",
    "    NOT_STARTED = 0\n",
    "    IN_PROGRESS = 1\n",
    "    COMPLETED = 2\n",
    "    \n",
    "print(Status.IN_PROGRESS.name)\n",
    "print(Status.COMPLETED.value)\n",
    "print(Status.NO_STATUS.name)"
   ]
  },
  {
   "cell_type": "markdown",
   "metadata": {},
   "source": [
    "### 9. Repeat strings without lopping"
   ]
  },
  {
   "cell_type": "code",
   "execution_count": 23,
   "metadata": {},
   "outputs": [
    {
     "name": "stdout",
     "output_type": "stream",
     "text": [
      "  vinodvinodvinodvinodvinod\n"
     ]
    }
   ],
   "source": [
    "name = \"vinod\"\n",
    "print(\" \",name * 5)"
   ]
  },
  {
   "cell_type": "markdown",
   "metadata": {},
   "source": [
    "#### 10. Compare 3 numbers just like in Math"
   ]
  },
  {
   "cell_type": "code",
   "execution_count": 24,
   "metadata": {},
   "outputs": [
    {
     "name": "stdout",
     "output_type": "stream",
     "text": [
      "True\n"
     ]
    }
   ],
   "source": [
    "x=3 \n",
    "print(1 < x < 10)"
   ]
  },
  {
   "cell_type": "markdown",
   "metadata": {},
   "source": [
    "#### 11. Merge dictionaries in a single readable line"
   ]
  },
  {
   "cell_type": "code",
   "execution_count": 3,
   "metadata": {},
   "outputs": [
    {
     "name": "stdout",
     "output_type": "stream",
     "text": [
      "None\n",
      "{'name': 'Rahul', 'location': 'Indore', 'surname': 'Awasare'}\n",
      "{'name': 'Rahul', 'surname': 'Awasare', 'location': 'Indore'}\n"
     ]
    }
   ],
   "source": [
    "first_dictionary = {'name':'Vinod','location':'Delhi'}\n",
    "second_dictionary = {'name':'Rahul','surname':'Awasare','location':'Indore'}\n",
    "\n",
    "#result = first_dictionary | second_dictionary\n",
    "\n",
    "print(first_dictionary.update(second_dictionary))\n",
    "print(first_dictionary)\n",
    "print(second_dictionary)"
   ]
  },
  {
   "cell_type": "markdown",
   "metadata": {},
   "source": [
    "#### 12. Find the index of an element in a tuple"
   ]
  },
  {
   "cell_type": "code",
   "execution_count": 5,
   "metadata": {},
   "outputs": [
    {
     "name": "stdout",
     "output_type": "stream",
     "text": [
      "2\n"
     ]
    }
   ],
   "source": [
    "books = ('Atomic habit','ego is a enemy','outliers','mastery')\n",
    "print(books.index('outliers'))"
   ]
  },
  {
   "cell_type": "markdown",
   "metadata": {},
   "source": [
    "#### 13. Convert a string into a list of strings"
   ]
  },
  {
   "cell_type": "code",
   "execution_count": 61,
   "metadata": {},
   "outputs": [
    {
     "name": "stdout",
     "output_type": "stream",
     "text": [
      "[[1, 2, 3], [5, 4, 7]]\n"
     ]
    }
   ],
   "source": [
    "import ast\n",
    "\n",
    "def string_to_list(str1):\n",
    "    return ast.literal_eval(str1)\n",
    "\n",
    "str1 = \"[[1,2,3],[5,4,7]]\"\n",
    "my_list = string_to_list(str1)\n",
    "print(my_list)\n"
   ]
  },
  {
   "cell_type": "markdown",
   "metadata": {},
   "source": [
    "#### 14. Avoid trivial mistakes by using named parameters"
   ]
  },
  {
   "cell_type": "code",
   "execution_count": 10,
   "metadata": {},
   "outputs": [
    {
     "name": "stdout",
     "output_type": "stream",
     "text": [
      "-2 @ -2\n",
      "1000000\n"
     ]
    }
   ],
   "source": [
    "def subtract(a,b):\n",
    "    return a-b\n",
    "    \n",
    "print((subtract(a=1,b=3)),(subtract(b=3,a=1)),sep=' @ ')\n",
    "print(1_000_000)\n"
   ]
  },
  {
   "cell_type": "markdown",
   "metadata": {},
   "source": [
    "#### 15. Slice a string using a step function"
   ]
  },
  {
   "cell_type": "code",
   "execution_count": 11,
   "metadata": {},
   "outputs": [
    {
     "name": "stdout",
     "output_type": "stream",
     "text": [
      "This \n",
      "This ip ju\n",
      "Tspu\n",
      "sjp i\n"
     ]
    }
   ],
   "source": [
    "my_string = \"This ip just a sentence\"\n",
    "print(my_string[0:5])\n",
    "print(my_string[0:10])\n",
    "# Three step forward\n",
    "print(my_string[0:10:3])\n",
    "# two step forward\n",
    "print(my_string[10:0:-2])\n"
   ]
  },
  {
   "cell_type": "markdown",
   "metadata": {},
   "source": [
    "#### 16. Difference between == and \"is\""
   ]
  },
  {
   "cell_type": "code",
   "execution_count": 12,
   "metadata": {},
   "outputs": [
    {
     "name": "stdout",
     "output_type": "stream",
     "text": [
      "True\n",
      "False\n",
      "True\n",
      "140723236217248\n",
      "2432972885040\n"
     ]
    }
   ],
   "source": [
    "\n",
    "f_list = [1,2,4]\n",
    "s_list = [1,2,4]\n",
    "\n",
    "print(f_list == s_list)\n",
    "\n",
    "\n",
    "print(f_list is s_list) # False bcoz different object in memory\n",
    "\n",
    "t_list = f_list\n",
    "\n",
    "print(t_list is f_list) # True bcoz both point to same object in memory\n",
    "\n",
    "# unique id of variable\n",
    "print(id(1))\n",
    "print(id(\"vinod\"))\n"
   ]
  },
  {
   "cell_type": "markdown",
   "metadata": {},
   "source": [
    "#### 17. Integers, floats, strings, booleans, sets, and tuples are immutable"
   ]
  },
  {
   "cell_type": "code",
   "execution_count": 39,
   "metadata": {},
   "outputs": [
    {
     "name": "stdout",
     "output_type": "stream",
     "text": [
      "140723920544160\n",
      "140723920544160\n",
      "140723920544224\n",
      "140723920544160\n",
      "2177507339632\n",
      "2177508312304\n"
     ]
    }
   ],
   "source": [
    "number = 1\n",
    "print(id(number)) # 140723920544160\n",
    "print(id(1)) # 140723920544160\n",
    "\n",
    "number = 3\n",
    "print(id(number)) # 140723920544224\n",
    "print(id(1)) # 140723920544160\n",
    "\n",
    "name =\"vinod\"\n",
    "print(id(name)) # 2177511814832\n",
    "\n",
    "name =\"rahul\"\n",
    "print(id(name)) # 2177508312304\n",
    "\n"
   ]
  },
  {
   "cell_type": "markdown",
   "metadata": {},
   "source": [
    "#### 18. Lists, sets, and dictionaries are mutable"
   ]
  },
  {
   "cell_type": "code",
   "execution_count": null,
   "metadata": {},
   "outputs": [
    {
     "name": "stdout",
     "output_type": "stream",
     "text": [
      "2177523468936\n",
      "2177523468936\n"
     ]
    }
   ],
   "source": [
    "cities = [\"delhi\",\"bhopal\",\"indore\"]\n",
    "print(id(cities)) # 2177523468936\n",
    "\n",
    "cities.append(\"mumbai\")\n",
    "print(id(cities)) # 2177523468936"
   ]
  },
  {
   "cell_type": "markdown",
   "metadata": {},
   "source": [
    "#### 19. You can turn a set into an immutable set"
   ]
  },
  {
   "cell_type": "code",
   "execution_count": 13,
   "metadata": {},
   "outputs": [
    {
     "name": "stdout",
     "output_type": "stream",
     "text": [
      "2432959956808\n"
     ]
    }
   ],
   "source": [
    "my_set = frozenset(['a','b','c'])\n",
    "print(id(my_set))\n"
   ]
  },
  {
   "cell_type": "code",
   "execution_count": null,
   "metadata": {},
   "outputs": [],
   "source": []
  }
 ],
 "metadata": {
  "interpreter": {
   "hash": "2147ee33f673e5bb9c6dddc3b69b7ed017b899ada107a882194aecb2cb9b0728"
  },
  "kernelspec": {
   "display_name": "Python 3.7.10 64-bit ('demo2': conda)",
   "name": "python3"
  },
  "language_info": {
   "codemirror_mode": {
    "name": "ipython",
    "version": 3
   },
   "file_extension": ".py",
   "mimetype": "text/x-python",
   "name": "python",
   "nbconvert_exporter": "python",
   "pygments_lexer": "ipython3",
   "version": "3.7.10"
  }
 },
 "nbformat": 4,
 "nbformat_minor": 5
}
