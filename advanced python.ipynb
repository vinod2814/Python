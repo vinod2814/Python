{
 "cells": [
  {
   "cell_type": "code",
   "execution_count": 7,
   "id": "f03849bb",
   "metadata": {},
   "outputs": [],
   "source": [
    "def hello(*posargs,**kargs): # * is positional argument and ** is keyword argument\n",
    "    print(posargs, kargs)"
   ]
  },
  {
   "cell_type": "code",
   "execution_count": 8,
   "id": "3c6e3941",
   "metadata": {},
   "outputs": [
    {
     "name": "stdout",
     "output_type": "stream",
     "text": [
      "('vinod', 'awasare') {'age': 30, 'birth': 14}\n"
     ]
    }
   ],
   "source": [
    "hello(\"vinod\",'awasare',age=30,birth=14)"
   ]
  },
  {
   "cell_type": "code",
   "execution_count": 9,
   "id": "56545763",
   "metadata": {},
   "outputs": [],
   "source": [
    "lst = ['vinod', 'awasare'] #list\n",
    "dict_args = {'age': 30, 'birth': 14} #dictionary"
   ]
  },
  {
   "cell_type": "code",
   "execution_count": 4,
   "id": "83193543",
   "metadata": {},
   "outputs": [
    {
     "ename": "SyntaxError",
     "evalue": "invalid syntax (<ipython-input-4-e3a70fdab087>, line 1)",
     "output_type": "error",
     "traceback": [
      "\u001b[1;36m  File \u001b[1;32m\"<ipython-input-4-e3a70fdab087>\"\u001b[1;36m, line \u001b[1;32m1\u001b[0m\n\u001b[1;33m    hello(*lst,**dict_args)b\u001b[0m\n\u001b[1;37m                           ^\u001b[0m\n\u001b[1;31mSyntaxError\u001b[0m\u001b[1;31m:\u001b[0m invalid syntax\n"
     ]
    }
   ],
   "source": [
    "hello(*lst,**dict_args)b"
   ]
  },
  {
   "cell_type": "code",
   "execution_count": 10,
   "id": "efabfe9a",
   "metadata": {},
   "outputs": [],
   "source": [
    "def even_odd(num):\n",
    "    if num%2 == 0:\n",
    "        return \"The number {} is even\".format(num)\n",
    "    else:\n",
    "        return \"The number {} is odd\".format(num)        "
   ]
  },
  {
   "cell_type": "code",
   "execution_count": 11,
   "id": "c9885c44",
   "metadata": {},
   "outputs": [
    {
     "data": {
      "text/plain": [
       "'The number 23 is odd'"
      ]
     },
     "execution_count": 11,
     "metadata": {},
     "output_type": "execute_result"
    }
   ],
   "source": [
    "even_odd(23)"
   ]
  },
  {
   "cell_type": "code",
   "execution_count": 12,
   "id": "511b9f6c",
   "metadata": {},
   "outputs": [],
   "source": [
    "lst = [1,2,3,4,5,6,7,8,9]"
   ]
  },
  {
   "cell_type": "code",
   "execution_count": 13,
   "id": "b0c6394b",
   "metadata": {},
   "outputs": [
    {
     "data": {
      "text/plain": [
       "<map at 0x1fd7ed26c40>"
      ]
     },
     "execution_count": 13,
     "metadata": {},
     "output_type": "execute_result"
    }
   ],
   "source": [
    "map(even_odd,lst) # map function instead of for loop"
   ]
  },
  {
   "cell_type": "code",
   "execution_count": 14,
   "id": "b0d6861d",
   "metadata": {},
   "outputs": [
    {
     "data": {
      "text/plain": [
       "['The number 1 is odd',\n",
       " 'The number 2 is even',\n",
       " 'The number 3 is odd',\n",
       " 'The number 4 is even',\n",
       " 'The number 5 is odd',\n",
       " 'The number 6 is even',\n",
       " 'The number 7 is odd',\n",
       " 'The number 8 is even',\n",
       " 'The number 9 is odd']"
      ]
     },
     "execution_count": 14,
     "metadata": {},
     "output_type": "execute_result"
    }
   ],
   "source": [
    "list(map(even_odd,lst))"
   ]
  },
  {
   "cell_type": "code",
   "execution_count": 15,
   "id": "180b99c5",
   "metadata": {},
   "outputs": [
    {
     "data": {
      "text/plain": [
       "11"
      ]
     },
     "execution_count": 15,
     "metadata": {},
     "output_type": "execute_result"
    }
   ],
   "source": [
    "sum = lambda a,b:a+b # lambda function. It is used for single line return\n",
    "\n",
    "sum(3,8)"
   ]
  },
  {
   "cell_type": "code",
   "execution_count": 16,
   "id": "b79b20f9",
   "metadata": {},
   "outputs": [],
   "source": [
    "lst = [2,5,6,7,8,4]"
   ]
  },
  {
   "cell_type": "code",
   "execution_count": 17,
   "id": "08d42474",
   "metadata": {},
   "outputs": [
    {
     "data": {
      "text/plain": [
       "<filter at 0x1fd7ed2bf70>"
      ]
     },
     "execution_count": 17,
     "metadata": {},
     "output_type": "execute_result"
    }
   ],
   "source": [
    "filter(lambda num:num%2 == 0,lst) # filter function"
   ]
  },
  {
   "cell_type": "code",
   "execution_count": 18,
   "id": "d07cdf00",
   "metadata": {},
   "outputs": [
    {
     "data": {
      "text/plain": [
       "[True, False, True, False, True, True]"
      ]
     },
     "execution_count": 18,
     "metadata": {},
     "output_type": "execute_result"
    }
   ],
   "source": [
    "list(map(lambda num:num%2 == 0,lst))"
   ]
  },
  {
   "cell_type": "code",
   "execution_count": 19,
   "id": "805ba813",
   "metadata": {},
   "outputs": [
    {
     "data": {
      "text/plain": [
       "[2, 6, 8, 4]"
      ]
     },
     "execution_count": 19,
     "metadata": {},
     "output_type": "execute_result"
    }
   ],
   "source": [
    "list(filter(lambda num:num%2 == 0,lst))"
   ]
  },
  {
   "cell_type": "code",
   "execution_count": 21,
   "id": "342e92ce",
   "metadata": {},
   "outputs": [],
   "source": [
    "lst1 = []\n",
    "def lst_square(lst):\n",
    "    for i in lst:\n",
    "        lst1.append(i*i)\n",
    "    return lst1    "
   ]
  },
  {
   "cell_type": "code",
   "execution_count": 22,
   "id": "efa2a2a5",
   "metadata": {},
   "outputs": [
    {
     "data": {
      "text/plain": [
       "[1, 4, 9, 16, 25, 36, 49]"
      ]
     },
     "execution_count": 22,
     "metadata": {},
     "output_type": "execute_result"
    }
   ],
   "source": [
    "lst_square([1,2,3,4,5,6,7])"
   ]
  },
  {
   "cell_type": "code",
   "execution_count": 23,
   "id": "c2274c55",
   "metadata": {},
   "outputs": [],
   "source": [
    "lst  = [1,2,3,4,5,6,7]"
   ]
  },
  {
   "cell_type": "code",
   "execution_count": 24,
   "id": "3014b343",
   "metadata": {},
   "outputs": [
    {
     "data": {
      "text/plain": [
       "[1, 4, 9, 16, 25, 36, 49]"
      ]
     },
     "execution_count": 24,
     "metadata": {},
     "output_type": "execute_result"
    }
   ],
   "source": [
    "[i*i for i in lst] # list comperhension ,for followed by zero or more for or if clauses"
   ]
  },
  {
   "cell_type": "code",
   "execution_count": 25,
   "id": "82f610c3",
   "metadata": {},
   "outputs": [],
   "source": [
    "lst_1 = [i*i for i in lst if i%2 ==0]"
   ]
  },
  {
   "cell_type": "code",
   "execution_count": 26,
   "id": "bc5a0aae",
   "metadata": {},
   "outputs": [
    {
     "data": {
      "text/plain": [
       "[4, 16, 36]"
      ]
     },
     "execution_count": 26,
     "metadata": {},
     "output_type": "execute_result"
    }
   ],
   "source": [
    "lst_1"
   ]
  },
  {
   "cell_type": "code",
   "execution_count": 27,
   "id": "ef57caa3",
   "metadata": {},
   "outputs": [],
   "source": [
    "# class\n",
    "\n",
    "class Car:\n",
    "    def __init__(self,window,door,engintype):\n",
    "        self.windows = window\n",
    "        self.doors = door\n",
    "        self.engintype = engintype\n",
    "    def self_driving(self):\n",
    "        return \"This is {} car\".format(self.engintype)"
   ]
  },
  {
   "cell_type": "code",
   "execution_count": 28,
   "id": "c0d31edc",
   "metadata": {},
   "outputs": [],
   "source": [
    "car = Car(5,4,\"petrol\")\n"
   ]
  },
  {
   "cell_type": "code",
   "execution_count": 29,
   "id": "c2609a29",
   "metadata": {},
   "outputs": [
    {
     "data": {
      "text/plain": [
       "['__class__',\n",
       " '__delattr__',\n",
       " '__dict__',\n",
       " '__dir__',\n",
       " '__doc__',\n",
       " '__eq__',\n",
       " '__format__',\n",
       " '__ge__',\n",
       " '__getattribute__',\n",
       " '__gt__',\n",
       " '__hash__',\n",
       " '__init__',\n",
       " '__init_subclass__',\n",
       " '__le__',\n",
       " '__lt__',\n",
       " '__module__',\n",
       " '__ne__',\n",
       " '__new__',\n",
       " '__reduce__',\n",
       " '__reduce_ex__',\n",
       " '__repr__',\n",
       " '__setattr__',\n",
       " '__sizeof__',\n",
       " '__str__',\n",
       " '__subclasshook__',\n",
       " '__weakref__',\n",
       " 'doors',\n",
       " 'engintype',\n",
       " 'self_driving',\n",
       " 'windows']"
      ]
     },
     "execution_count": 29,
     "metadata": {},
     "output_type": "execute_result"
    }
   ],
   "source": [
    "dir(car)\n"
   ]
  },
  {
   "cell_type": "code",
   "execution_count": 30,
   "id": "8b2fd821",
   "metadata": {},
   "outputs": [
    {
     "data": {
      "text/plain": [
       "'This is petrol car'"
      ]
     },
     "execution_count": 30,
     "metadata": {},
     "output_type": "execute_result"
    }
   ],
   "source": [
    "car.self_driving()"
   ]
  },
  {
   "cell_type": "markdown",
   "id": "e849deaf",
   "metadata": {},
   "source": [
    "# Python Exception Handling"
   ]
  },
  {
   "cell_type": "code",
   "execution_count": null,
   "id": "5a8708e8",
   "metadata": {},
   "outputs": [],
   "source": [
    "a=b"
   ]
  },
  {
   "cell_type": "code",
   "execution_count": 31,
   "id": "817d4de7",
   "metadata": {},
   "outputs": [
    {
     "name": "stdout",
     "output_type": "stream",
     "text": [
      "Enter the number 1 12\n",
      "Enter the number 2 0\n",
      "Please enter the number greater than 0\n"
     ]
    }
   ],
   "source": [
    "# try else block\n",
    "try:\n",
    "    # code block where exception can occure\n",
    "    a=int(input(\"Enter the number 1 \"))\n",
    "    b=int(input(\"Enter the number 2 \"))\n",
    "    c=a+b\n",
    "    d=a*b\n",
    "    e=a/b\n",
    "    \n",
    "except NameError:\n",
    "    print(\"The user have not defined the variable\")\n",
    "except TypeError:\n",
    "    print(\"Try to make data type similar\")\n",
    "except ZeroDivisionError:\n",
    "    print(\"Please enter the number greater than 0\")     \n",
    "except Exeception as ex:\n",
    "    print(ex) # msg after exception occure\n",
    "else:\n",
    "    print(c)\n",
    "    print(d)\n",
    "    print(e)\n",
    "    "
   ]
  },
  {
   "cell_type": "code",
   "execution_count": 32,
   "id": "91b2c8dd",
   "metadata": {},
   "outputs": [
    {
     "name": "stdout",
     "output_type": "stream",
     "text": [
      "Enter the number 1 12\n",
      "Enter the number 2 0\n",
      "Please enter the number greater than 0\n",
      "The execution is done\n"
     ]
    }
   ],
   "source": [
    "# try else finally block\n",
    "try:\n",
    "    # code block where exception can occure\n",
    "    a=int(input(\"Enter the number 1 \"))\n",
    "    b=int(input(\"Enter the number 2 \"))\n",
    "    e=a/b\n",
    "    \n",
    "except NameError:\n",
    "    print(\"The user have not defined the variable\")\n",
    "except TypeError:\n",
    "    print(\"Try to make data type similar\")\n",
    "except ZeroDivisionError:\n",
    "    print(\"Please enter the number greater than 0\")     \n",
    "except Exeception as ex:\n",
    "    print(ex) # msg after exception occure\n",
    "else:\n",
    "    print(e)\n",
    "finally:\n",
    "    print(\"The execution is done\") # Always execute. example: write code for connection close for database"
   ]
  },
  {
   "cell_type": "markdown",
   "id": "a5fdd824",
   "metadata": {},
   "source": [
    "# Custom Exception"
   ]
  },
  {
   "cell_type": "code",
   "execution_count": 33,
   "id": "8bbaaf26",
   "metadata": {},
   "outputs": [],
   "source": [
    "class Error(Exception):\n",
    "    pass\n",
    "\n",
    "class dobException(Error):\n",
    "    pass"
   ]
  },
  {
   "cell_type": "code",
   "execution_count": null,
   "id": "b1f82e8a",
   "metadata": {},
   "outputs": [],
   "source": [
    "year = int(input(\"Enter the your of birth \"))\n",
    "\n",
    "age = 2021-year\n",
    "print(age)\n",
    "try:\n",
    "    if age<=30 & age>=20:\n",
    "        print(\"the age is valid\")\n",
    "    else:\n",
    "        raise dobException\n",
    "except dobException:\n",
    "    print(\"The age is not valid\")\n",
    "    \n",
    "    "
   ]
  },
  {
   "cell_type": "code",
   "execution_count": 2,
   "id": "9fa18514",
   "metadata": {},
   "outputs": [],
   "source": [
    "# All the class variable are public\n",
    "class Car:\n",
    "    def __init__(self,window,door,engintype):\n",
    "        self.windows = window\n",
    "        self.doors = door\n",
    "        self.engintype = engintype"
   ]
  },
  {
   "cell_type": "code",
   "execution_count": 5,
   "id": "54b0f458",
   "metadata": {},
   "outputs": [],
   "source": [
    "audi = Car(4,6,'patrol')"
   ]
  },
  {
   "cell_type": "code",
   "execution_count": 6,
   "id": "b6293579",
   "metadata": {},
   "outputs": [
    {
     "data": {
      "text/plain": [
       "['__class__',\n",
       " '__delattr__',\n",
       " '__dict__',\n",
       " '__dir__',\n",
       " '__doc__',\n",
       " '__eq__',\n",
       " '__format__',\n",
       " '__ge__',\n",
       " '__getattribute__',\n",
       " '__gt__',\n",
       " '__hash__',\n",
       " '__init__',\n",
       " '__init_subclass__',\n",
       " '__le__',\n",
       " '__lt__',\n",
       " '__module__',\n",
       " '__ne__',\n",
       " '__new__',\n",
       " '__reduce__',\n",
       " '__reduce_ex__',\n",
       " '__repr__',\n",
       " '__setattr__',\n",
       " '__sizeof__',\n",
       " '__str__',\n",
       " '__subclasshook__',\n",
       " '__weakref__',\n",
       " 'doors',\n",
       " 'engintype',\n",
       " 'windows']"
      ]
     },
     "execution_count": 6,
     "metadata": {},
     "output_type": "execute_result"
    }
   ],
   "source": [
    "dir(audi)"
   ]
  },
  {
   "cell_type": "code",
   "execution_count": 7,
   "id": "71fb1c3f",
   "metadata": {},
   "outputs": [],
   "source": [
    "# All the class variable are protected. It can access by subclass \n",
    "class Car:\n",
    "    def __init__(self,window,door,engintype):\n",
    "        self._windows = window\n",
    "        self._doors = door\n",
    "        self._engintype = engintype"
   ]
  },
  {
   "cell_type": "code",
   "execution_count": 25,
   "id": "afa7c700",
   "metadata": {},
   "outputs": [],
   "source": [
    "class Truck(Car):\n",
    "    def __init__(self,window,door,engintype,horsepower):\n",
    "        super().__init__(window,door,engintype)\n",
    "        self.horsepower=horsepower\n",
    "    "
   ]
  },
  {
   "cell_type": "code",
   "execution_count": 26,
   "id": "94fecb8d",
   "metadata": {},
   "outputs": [],
   "source": [
    "audi = Truck(6,7,'diesel',4000)"
   ]
  },
  {
   "cell_type": "code",
   "execution_count": 27,
   "id": "eb248557",
   "metadata": {},
   "outputs": [
    {
     "data": {
      "text/plain": [
       "['__class__',\n",
       " '__delattr__',\n",
       " '__dict__',\n",
       " '__dir__',\n",
       " '__doc__',\n",
       " '__eq__',\n",
       " '__format__',\n",
       " '__ge__',\n",
       " '__getattribute__',\n",
       " '__gt__',\n",
       " '__hash__',\n",
       " '__init__',\n",
       " '__init_subclass__',\n",
       " '__le__',\n",
       " '__lt__',\n",
       " '__module__',\n",
       " '__ne__',\n",
       " '__new__',\n",
       " '__reduce__',\n",
       " '__reduce_ex__',\n",
       " '__repr__',\n",
       " '__setattr__',\n",
       " '__sizeof__',\n",
       " '__str__',\n",
       " '__subclasshook__',\n",
       " '__weakref__',\n",
       " '_doors',\n",
       " '_engintype',\n",
       " '_windows',\n",
       " 'horsepower']"
      ]
     },
     "execution_count": 27,
     "metadata": {},
     "output_type": "execute_result"
    }
   ],
   "source": [
    "dir(audi)"
   ]
  },
  {
   "cell_type": "code",
   "execution_count": 28,
   "id": "a320d2f6",
   "metadata": {},
   "outputs": [],
   "source": [
    "## private variable\n",
    "\n",
    "class Car:\n",
    "    def __init__(self,window,door,engintype):\n",
    "        self.__windows = window\n",
    "        self.__doors = door\n",
    "        self.__engintype = engintype\n"
   ]
  },
  {
   "cell_type": "code",
   "execution_count": 29,
   "id": "3739c1bb",
   "metadata": {},
   "outputs": [],
   "source": [
    "audi = Car(4,6,'Diesel')"
   ]
  },
  {
   "cell_type": "code",
   "execution_count": 30,
   "id": "f436b95e",
   "metadata": {},
   "outputs": [
    {
     "data": {
      "text/plain": [
       "['_Car__doors',\n",
       " '_Car__engintype',\n",
       " '_Car__windows',\n",
       " '__class__',\n",
       " '__delattr__',\n",
       " '__dict__',\n",
       " '__dir__',\n",
       " '__doc__',\n",
       " '__eq__',\n",
       " '__format__',\n",
       " '__ge__',\n",
       " '__getattribute__',\n",
       " '__gt__',\n",
       " '__hash__',\n",
       " '__init__',\n",
       " '__init_subclass__',\n",
       " '__le__',\n",
       " '__lt__',\n",
       " '__module__',\n",
       " '__ne__',\n",
       " '__new__',\n",
       " '__reduce__',\n",
       " '__reduce_ex__',\n",
       " '__repr__',\n",
       " '__setattr__',\n",
       " '__sizeof__',\n",
       " '__str__',\n",
       " '__subclasshook__',\n",
       " '__weakref__']"
      ]
     },
     "execution_count": 30,
     "metadata": {},
     "output_type": "execute_result"
    }
   ],
   "source": [
    "dir(audi)"
   ]
  },
  {
   "cell_type": "code",
   "execution_count": 40,
   "id": "655cd6ca",
   "metadata": {},
   "outputs": [],
   "source": [
    "# Inheritance\n",
    "\n",
    "class Car:\n",
    "    def __init__(self,window,door,engintype):\n",
    "        self.windows = window\n",
    "        self.doors = door\n",
    "        self.engintype = engintype\n",
    "    def drive(self):\n",
    "        print(\"The person drive the car\")"
   ]
  },
  {
   "cell_type": "code",
   "execution_count": 41,
   "id": "79b8ea1f",
   "metadata": {},
   "outputs": [],
   "source": [
    "car = Car(4,5,'diesel')"
   ]
  },
  {
   "cell_type": "code",
   "execution_count": 44,
   "id": "d9910231",
   "metadata": {},
   "outputs": [
    {
     "name": "stdout",
     "output_type": "stream",
     "text": [
      "The person drive the car\n"
     ]
    }
   ],
   "source": [
    "car.drive()"
   ]
  },
  {
   "cell_type": "code",
   "execution_count": 43,
   "id": "85d69ff3",
   "metadata": {},
   "outputs": [
    {
     "data": {
      "text/plain": [
       "['__class__',\n",
       " '__delattr__',\n",
       " '__dict__',\n",
       " '__dir__',\n",
       " '__doc__',\n",
       " '__eq__',\n",
       " '__format__',\n",
       " '__ge__',\n",
       " '__getattribute__',\n",
       " '__gt__',\n",
       " '__hash__',\n",
       " '__init__',\n",
       " '__init_subclass__',\n",
       " '__le__',\n",
       " '__lt__',\n",
       " '__module__',\n",
       " '__ne__',\n",
       " '__new__',\n",
       " '__reduce__',\n",
       " '__reduce_ex__',\n",
       " '__repr__',\n",
       " '__setattr__',\n",
       " '__sizeof__',\n",
       " '__str__',\n",
       " '__subclasshook__',\n",
       " '__weakref__',\n",
       " 'doors',\n",
       " 'drive',\n",
       " 'engintype',\n",
       " 'windows']"
      ]
     },
     "execution_count": 43,
     "metadata": {},
     "output_type": "execute_result"
    }
   ],
   "source": [
    "dir(car)"
   ]
  },
  {
   "cell_type": "code",
   "execution_count": 42,
   "id": "6b3b3ba4",
   "metadata": {},
   "outputs": [
    {
     "name": "stdout",
     "output_type": "stream",
     "text": [
      "4\n"
     ]
    }
   ],
   "source": [
    "print(car.windows)"
   ]
  },
  {
   "cell_type": "code",
   "execution_count": 45,
   "id": "2e36cb9f",
   "metadata": {},
   "outputs": [],
   "source": [
    "class audi(Car):\n",
    "    def __init__(self,window,door,engintype,enableai):\n",
    "        super().__init__(window,door,engintype)\n",
    "        self.enableai = True\n",
    "    def self_driving(self):\n",
    "        print(\"Audi support self driving\")"
   ]
  },
  {
   "cell_type": "code",
   "execution_count": 46,
   "id": "8c295379",
   "metadata": {},
   "outputs": [],
   "source": [
    "audi = audi(4,5,'diesel',True)"
   ]
  },
  {
   "cell_type": "code",
   "execution_count": 47,
   "id": "3003065a",
   "metadata": {},
   "outputs": [
    {
     "name": "stdout",
     "output_type": "stream",
     "text": [
      "The person drive the car\n"
     ]
    }
   ],
   "source": [
    "audi.drive()"
   ]
  },
  {
   "cell_type": "code",
   "execution_count": 48,
   "id": "d3acb634",
   "metadata": {},
   "outputs": [
    {
     "data": {
      "text/plain": [
       "['__class__',\n",
       " '__delattr__',\n",
       " '__dict__',\n",
       " '__dir__',\n",
       " '__doc__',\n",
       " '__eq__',\n",
       " '__format__',\n",
       " '__ge__',\n",
       " '__getattribute__',\n",
       " '__gt__',\n",
       " '__hash__',\n",
       " '__init__',\n",
       " '__init_subclass__',\n",
       " '__le__',\n",
       " '__lt__',\n",
       " '__module__',\n",
       " '__ne__',\n",
       " '__new__',\n",
       " '__reduce__',\n",
       " '__reduce_ex__',\n",
       " '__repr__',\n",
       " '__setattr__',\n",
       " '__sizeof__',\n",
       " '__str__',\n",
       " '__subclasshook__',\n",
       " '__weakref__',\n",
       " 'doors',\n",
       " 'drive',\n",
       " 'enableai',\n",
       " 'engintype',\n",
       " 'self_driving',\n",
       " 'windows']"
      ]
     },
     "execution_count": 48,
     "metadata": {},
     "output_type": "execute_result"
    }
   ],
   "source": [
    "dir(audi)"
   ]
  },
  {
   "cell_type": "code",
   "execution_count": 7,
   "id": "e155873e",
   "metadata": {},
   "outputs": [],
   "source": [
    "class Car:\n",
    "#     def __new__(self,window,door,engintype):\n",
    "#         print(\"The object has started getting initialize\")\n",
    "    def __init__(self,window,door,engintype):\n",
    "        self.windows = window\n",
    "        self.doors = door\n",
    "        self.engintype = engintype\n",
    "    def __str__(self):\n",
    "        return \"The object has been initialized\"\n",
    "    def __sizeof__(self):\n",
    "        return \"The overall object size\"\n",
    "    def drive(self):\n",
    "        print(\"The person drive the car\")"
   ]
  },
  {
   "cell_type": "code",
   "execution_count": 8,
   "id": "d597fe89",
   "metadata": {},
   "outputs": [],
   "source": [
    "c = Car(4,6,'Diesel')"
   ]
  },
  {
   "cell_type": "code",
   "execution_count": 9,
   "id": "cb38e834",
   "metadata": {},
   "outputs": [
    {
     "data": {
      "text/plain": [
       "'The overall object size'"
      ]
     },
     "execution_count": 9,
     "metadata": {},
     "output_type": "execute_result"
    }
   ],
   "source": [
    "c.__sizeof__()"
   ]
  },
  {
   "cell_type": "code",
   "execution_count": 10,
   "id": "3dc16c0c",
   "metadata": {},
   "outputs": [
    {
     "name": "stdout",
     "output_type": "stream",
     "text": [
      "The object has been initialized\n"
     ]
    }
   ],
   "source": [
    "print(c)"
   ]
  },
  {
   "cell_type": "code",
   "execution_count": 11,
   "id": "5ab6017e",
   "metadata": {},
   "outputs": [
    {
     "data": {
      "text/plain": [
       "['__class__',\n",
       " '__delattr__',\n",
       " '__dict__',\n",
       " '__dir__',\n",
       " '__doc__',\n",
       " '__eq__',\n",
       " '__format__',\n",
       " '__ge__',\n",
       " '__getattribute__',\n",
       " '__gt__',\n",
       " '__hash__',\n",
       " '__init__',\n",
       " '__init_subclass__',\n",
       " '__le__',\n",
       " '__lt__',\n",
       " '__module__',\n",
       " '__ne__',\n",
       " '__new__',\n",
       " '__reduce__',\n",
       " '__reduce_ex__',\n",
       " '__repr__',\n",
       " '__setattr__',\n",
       " '__sizeof__',\n",
       " '__str__',\n",
       " '__subclasshook__',\n",
       " '__weakref__',\n",
       " 'doors',\n",
       " 'drive',\n",
       " 'engintype',\n",
       " 'windows']"
      ]
     },
     "execution_count": 11,
     "metadata": {},
     "output_type": "execute_result"
    }
   ],
   "source": [
    "dir(c)"
   ]
  },
  {
   "cell_type": "code",
   "execution_count": 18,
   "id": "649ad52e",
   "metadata": {},
   "outputs": [
    {
     "ename": "AssertionError",
     "evalue": "",
     "output_type": "error",
     "traceback": [
      "\u001b[1;31m---------------------------------------------------------------------------\u001b[0m",
      "\u001b[1;31mAssertionError\u001b[0m                            Traceback (most recent call last)",
      "\u001b[1;32m<ipython-input-18-206b5bd9b799>\u001b[0m in \u001b[0;36m<module>\u001b[1;34m\u001b[0m\n\u001b[0;32m      1\u001b[0m \u001b[1;31m# assert\u001b[0m\u001b[1;33m\u001b[0m\u001b[1;33m\u001b[0m\u001b[1;33m\u001b[0m\u001b[0m\n\u001b[0;32m      2\u001b[0m \u001b[0mnum\u001b[0m \u001b[1;33m=\u001b[0m\u001b[1;36m20\u001b[0m\u001b[1;33m\u001b[0m\u001b[1;33m\u001b[0m\u001b[0m\n\u001b[1;32m----> 3\u001b[1;33m \u001b[1;32massert\u001b[0m \u001b[0mnum\u001b[0m\u001b[1;33m>=\u001b[0m\u001b[1;36m30\u001b[0m\u001b[1;33m\u001b[0m\u001b[1;33m\u001b[0m\u001b[0m\n\u001b[0m",
      "\u001b[1;31mAssertionError\u001b[0m: "
     ]
    }
   ],
   "source": [
    "# assert\n",
    "num =20\n",
    "assert num>=30"
   ]
  },
  {
   "cell_type": "code",
   "execution_count": 20,
   "id": "a5c8c625",
   "metadata": {},
   "outputs": [
    {
     "name": "stdout",
     "output_type": "stream",
     "text": [
      "Enter the number35\n",
      "Please enter even number only\n"
     ]
    }
   ],
   "source": [
    "num = int(input(\"Enter the number\"))\n",
    "\n",
    "try:\n",
    "    assert num%2 == 0\n",
    "    print(\"Number is even\")\n",
    "except AssertionError:\n",
    "    print(\"Please enter even number only\")"
   ]
  },
  {
   "cell_type": "code",
   "execution_count": 34,
   "id": "fc05c4a1",
   "metadata": {},
   "outputs": [
    {
     "name": "stdout",
     "output_type": "stream",
     "text": [
      "0 is an Even Number\n",
      "5 is an Odd Number\n",
      "10 is an Even Number\n",
      "15 is an Odd Number\n",
      "20 is an Even Number\n"
     ]
    }
   ],
   "source": [
    "# Iterator and genrator\n",
    "\n",
    "a = [0, 5, 10, 15, 20]\n",
    "for i in a:\n",
    "\tif i % 2 == 0:\n",
    "\t\tprint(str(i)+' is an Even Number')\n",
    "\telse:\n",
    "\t\tprint(str(i)+' is an Odd Number')\n"
   ]
  },
  {
   "cell_type": "code",
   "execution_count": 47,
   "id": "0bf88319",
   "metadata": {},
   "outputs": [
    {
     "name": "stdout",
     "output_type": "stream",
     "text": [
      "0\n",
      "5\n",
      "10\n"
     ]
    }
   ],
   "source": [
    "'''As lazy evaluation is implemented, it requires only 1 memory location to process\n",
    "the value and when we are using a large dataset then,\n",
    "wastage of RAM space will be reduced the need to load the entire dataset at the same time will not be there.'''\n",
    "\n",
    "#a = [0, 5, 10, 15, 20]\n",
    "\n",
    "iterator = iter([0, 5, 10, 15, 20])\n",
    "\n",
    "print(next(iterator))\n",
    "print(next(iterator))\n",
    "print(next(iterator))"
   ]
  },
  {
   "cell_type": "code",
   "execution_count": 48,
   "id": "98792d87",
   "metadata": {},
   "outputs": [
    {
     "name": "stdout",
     "output_type": "stream",
     "text": [
      "The square of numbers 1,2,3 are : \n",
      "1\n",
      "4\n",
      "9\n"
     ]
    }
   ],
   "source": [
    "# generator\n",
    "# generator creats iterator\n",
    "\n",
    "def sq_numbers(n):\n",
    "    for i in range(1, n+1):\n",
    "        yield i*i\n",
    "  \n",
    "  \n",
    "a = sq_numbers(3)\n",
    "  \n",
    "print(\"The square of numbers 1,2,3 are : \")\n",
    "print(next(a))\n",
    "print(next(a))\n",
    "print(next(a))"
   ]
  }
 ],
 "metadata": {
  "kernelspec": {
   "display_name": "Python 3",
   "language": "python",
   "name": "python3"
  },
  "language_info": {
   "codemirror_mode": {
    "name": "ipython",
    "version": 3
   },
   "file_extension": ".py",
   "mimetype": "text/x-python",
   "name": "python",
   "nbconvert_exporter": "python",
   "pygments_lexer": "ipython3",
   "version": "3.8.8"
  }
 },
 "nbformat": 4,
 "nbformat_minor": 5
}
